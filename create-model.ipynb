{
 "cells": [
  {
   "cell_type": "markdown",
   "id": "9c9fba0c",
   "metadata": {},
   "source": [
    "# LSTM to Identify Stress Partens"
   ]
  },
  {
   "cell_type": "markdown",
   "id": "61607166",
   "metadata": {},
   "source": [
    "## Importing Data"
   ]
  },
  {
   "cell_type": "markdown",
   "id": "ee288c07",
   "metadata": {},
   "source": [
    "* TEMP.csv: \n",
    "Data from temperature sensor expressed degrees on the Celsius (°C) scale.\n",
    "\n",
    "* EDA.csv:\n",
    "Data from the electrodermal activity sensor expressed as microsiemens (μS).\n",
    "\n",
    "* BVP.csv:\n",
    "Data from photoplethysmograph.\n",
    "\n",
    "* ACC.csv:\n",
    "Data from 3-axis accelerometer sensor. The accelerometer is configured to measure acceleration in the range [-2g, 2g]. Therefore the unit in this file is 1/64g.\n",
    "Data from x, y, and z axis are respectively in first, second, and third column.\n",
    "\n",
    "* IBI.csv:\n",
    "Time between individuals heart beats extracted from the BVP signal.\n",
    "No sample rate is needed for this file.\n",
    "The first column is the time (respect to the initial time) of the detected inter-beat interval expressed in seconds (s).\n",
    "The second column is the duration in seconds (s) of the detected inter-beat interval (i.e., the distance in seconds from the previous beat).\n",
    "\n",
    "* HR.csv:\n",
    "Average heart rate extracted from the BVP signal.The first row is the initial time of the session expressed as unix timestamp in UTC.\n",
    "The second row is the sample rate expressed in Hz.\n",
    "\n",
    "\n",
    "* tags.csv:\n",
    "Event mark times.\n",
    "Each row corresponds to a physical button press on the device; the same time as the status LED is first illuminated.\n",
    "The time is expressed as a unix timestamp in UTC and it is synchronized with initial time of the session indicated in the related data files from the corresponding session."
   ]
  },
  {
   "cell_type": "code",
   "execution_count": 168,
   "id": "9c7c503b",
   "metadata": {},
   "outputs": [],
   "source": [
    "import pandas as pd\n",
    "import numpy as np\n",
    "import os\n",
    "import pickle\n",
    "from zipfile import ZipFile"
   ]
  },
  {
   "cell_type": "code",
   "execution_count": 169,
   "id": "45a54d81",
   "metadata": {},
   "outputs": [],
   "source": [
    "root_path = \"//Users/i546644/Documents/Unisinos/WESAD\""
   ]
  },
  {
   "cell_type": "code",
   "execution_count": 170,
   "id": "5dc72ce6",
   "metadata": {},
   "outputs": [],
   "source": [
    "subjects_available = os.listdir(root_path)"
   ]
  },
  {
   "cell_type": "code",
   "execution_count": 171,
   "id": "5d9ed8a7",
   "metadata": {},
   "outputs": [
    {
     "data": {
      "text/plain": [
       "['S5',\n",
       " 'S2',\n",
       " 'S3',\n",
       " 'S4',\n",
       " '.DS_Store',\n",
       " 'S17',\n",
       " 'S10',\n",
       " 'S11',\n",
       " 'S16',\n",
       " 'S8',\n",
       " 'S6',\n",
       " 'S7',\n",
       " 'S9',\n",
       " 'S13',\n",
       " 'S14',\n",
       " 'S15',\n",
       " 'wesad_readme.pdf']"
      ]
     },
     "execution_count": 171,
     "metadata": {},
     "output_type": "execute_result"
    }
   ],
   "source": [
    "subjects_available"
   ]
  },
  {
   "cell_type": "code",
   "execution_count": 173,
   "id": "1b2834a4",
   "metadata": {},
   "outputs": [],
   "source": [
    "subjects_available.remove(\".DS_Store\")\n",
    "subjects_available.remove(\"wesad_readme.pdf\")"
   ]
  },
  {
   "cell_type": "code",
   "execution_count": 174,
   "id": "300128af",
   "metadata": {},
   "outputs": [
    {
     "data": {
      "text/plain": [
       "['S5',\n",
       " 'S2',\n",
       " 'S3',\n",
       " 'S4',\n",
       " 'S17',\n",
       " 'S10',\n",
       " 'S11',\n",
       " 'S16',\n",
       " 'S8',\n",
       " 'S6',\n",
       " 'S7',\n",
       " 'S9',\n",
       " 'S13',\n",
       " 'S14',\n",
       " 'S15']"
      ]
     },
     "execution_count": 174,
     "metadata": {},
     "output_type": "execute_result"
    }
   ],
   "source": [
    "subjects_available"
   ]
  },
  {
   "cell_type": "code",
   "execution_count": 175,
   "id": "c9ec8024",
   "metadata": {},
   "outputs": [],
   "source": [
    "data_names = [\n",
    "    \"TEMP\",\n",
    "    \"EDA\",\n",
    "    \"BVP\",\n",
    "    \"ACC\",\n",
    "    \"IBI\",\n",
    "    \"HR\",\n",
    "    \"TAGS\"\n",
    "]"
   ]
  },
  {
   "cell_type": "code",
   "execution_count": 176,
   "id": "84b8ecac",
   "metadata": {},
   "outputs": [],
   "source": [
    "zip_label = \"_E4_Data.zip\"\n",
    "E4_label = \"_E4_Data\""
   ]
  },
  {
   "cell_type": "code",
   "execution_count": 177,
   "id": "b6675866",
   "metadata": {},
   "outputs": [],
   "source": [
    "def unzip_files(subjects_available):\n",
    "    \n",
    "    subjects_data_paths = []\n",
    "    \n",
    "    for subject in subjects_available:\n",
    "        # extracting data from zip files\n",
    "        subject_E4_data_path = os.path.join(root_path, subject, subject + E4_label)\n",
    "        subject_zip_data_path = os.path.join(root_path, subject, subject + zip_label)\n",
    "        subjects_data_paths.append(subject_E4_data_path)\n",
    "        with ZipFile(subject_zip_data_path, 'r') as zipObj:\n",
    "            zipObj.extractall(subject_E4_data_path)\n",
    "    \n",
    "    return subjects_data_paths"
   ]
  },
  {
   "cell_type": "code",
   "execution_count": 178,
   "id": "17e6ad7c",
   "metadata": {},
   "outputs": [
    {
     "data": {
      "text/plain": [
       "['//Users/i546644/Documents/Unisinos/WESAD/S5/S5_E4_Data',\n",
       " '//Users/i546644/Documents/Unisinos/WESAD/S2/S2_E4_Data',\n",
       " '//Users/i546644/Documents/Unisinos/WESAD/S3/S3_E4_Data',\n",
       " '//Users/i546644/Documents/Unisinos/WESAD/S4/S4_E4_Data',\n",
       " '//Users/i546644/Documents/Unisinos/WESAD/S17/S17_E4_Data',\n",
       " '//Users/i546644/Documents/Unisinos/WESAD/S10/S10_E4_Data',\n",
       " '//Users/i546644/Documents/Unisinos/WESAD/S11/S11_E4_Data',\n",
       " '//Users/i546644/Documents/Unisinos/WESAD/S16/S16_E4_Data',\n",
       " '//Users/i546644/Documents/Unisinos/WESAD/S8/S8_E4_Data',\n",
       " '//Users/i546644/Documents/Unisinos/WESAD/S6/S6_E4_Data',\n",
       " '//Users/i546644/Documents/Unisinos/WESAD/S7/S7_E4_Data',\n",
       " '//Users/i546644/Documents/Unisinos/WESAD/S9/S9_E4_Data',\n",
       " '//Users/i546644/Documents/Unisinos/WESAD/S13/S13_E4_Data',\n",
       " '//Users/i546644/Documents/Unisinos/WESAD/S14/S14_E4_Data',\n",
       " '//Users/i546644/Documents/Unisinos/WESAD/S15/S15_E4_Data']"
      ]
     },
     "execution_count": 178,
     "metadata": {},
     "output_type": "execute_result"
    }
   ],
   "source": [
    "unzip_files(subjects_available)"
   ]
  },
  {
   "cell_type": "code",
   "execution_count": 208,
   "id": "9174d7f9",
   "metadata": {},
   "outputs": [],
   "source": [
    "def get_input_chest_data(subjects_available, body_signal):\n",
    "    \n",
    "    chest_df_list = []\n",
    "    \n",
    "    for subject in subjects_available:\n",
    "        \n",
    "        pkl_path = os.path.join(root_path, subject, subject + \".pkl\")\n",
    "        f=open(pkl_path,'rb')\n",
    "        data=pickle.load(f,encoding='latin1')\n",
    "        \n",
    "        index_df = [i for i in range(1, len(data[\"label\"]) + 1)]\n",
    "        chest_data = {\n",
    "            body_signal: data[\"signal\"][\"chest\"][body_signal].reshape(len(data[\"signal\"][\"chest\"][body_signal]),), \n",
    "            \"label\": data[\"label\"],\n",
    "            \"subject\": data[\"subject\"]\n",
    "        }\n",
    "        \n",
    "        chest_df_list.append(pd.DataFrame(chest_data, index = index_df))\n",
    "        \n",
    "    return chest_df_list\n",
    "        "
   ]
  },
  {
   "cell_type": "code",
   "execution_count": 209,
   "id": "9db70a97",
   "metadata": {},
   "outputs": [],
   "source": [
    "input_chest_data = get_input_chest_data(subjects_available, \"EDA\")"
   ]
  },
  {
   "cell_type": "code",
   "execution_count": 210,
   "id": "1c2f647a",
   "metadata": {},
   "outputs": [
    {
     "data": {
      "text/plain": [
       "15"
      ]
     },
     "execution_count": 210,
     "metadata": {},
     "output_type": "execute_result"
    }
   ],
   "source": [
    "len(input_chest_data)"
   ]
  },
  {
   "cell_type": "code",
   "execution_count": 211,
   "id": "2f4ac02a",
   "metadata": {},
   "outputs": [
    {
     "data": {
      "text/html": [
       "<div>\n",
       "<style scoped>\n",
       "    .dataframe tbody tr th:only-of-type {\n",
       "        vertical-align: middle;\n",
       "    }\n",
       "\n",
       "    .dataframe tbody tr th {\n",
       "        vertical-align: top;\n",
       "    }\n",
       "\n",
       "    .dataframe thead th {\n",
       "        text-align: right;\n",
       "    }\n",
       "</style>\n",
       "<table border=\"1\" class=\"dataframe\">\n",
       "  <thead>\n",
       "    <tr style=\"text-align: right;\">\n",
       "      <th></th>\n",
       "      <th>EDA</th>\n",
       "      <th>label</th>\n",
       "      <th>subject</th>\n",
       "    </tr>\n",
       "  </thead>\n",
       "  <tbody>\n",
       "    <tr>\n",
       "      <th>1</th>\n",
       "      <td>3.888321</td>\n",
       "      <td>0</td>\n",
       "      <td>S5</td>\n",
       "    </tr>\n",
       "    <tr>\n",
       "      <th>2</th>\n",
       "      <td>3.913116</td>\n",
       "      <td>0</td>\n",
       "      <td>S5</td>\n",
       "    </tr>\n",
       "    <tr>\n",
       "      <th>3</th>\n",
       "      <td>3.873062</td>\n",
       "      <td>0</td>\n",
       "      <td>S5</td>\n",
       "    </tr>\n",
       "    <tr>\n",
       "      <th>4</th>\n",
       "      <td>3.883362</td>\n",
       "      <td>0</td>\n",
       "      <td>S5</td>\n",
       "    </tr>\n",
       "    <tr>\n",
       "      <th>5</th>\n",
       "      <td>3.886795</td>\n",
       "      <td>0</td>\n",
       "      <td>S5</td>\n",
       "    </tr>\n",
       "    <tr>\n",
       "      <th>...</th>\n",
       "      <td>...</td>\n",
       "      <td>...</td>\n",
       "      <td>...</td>\n",
       "    </tr>\n",
       "    <tr>\n",
       "      <th>4380596</th>\n",
       "      <td>10.231400</td>\n",
       "      <td>0</td>\n",
       "      <td>S5</td>\n",
       "    </tr>\n",
       "    <tr>\n",
       "      <th>4380597</th>\n",
       "      <td>10.231018</td>\n",
       "      <td>0</td>\n",
       "      <td>S5</td>\n",
       "    </tr>\n",
       "    <tr>\n",
       "      <th>4380598</th>\n",
       "      <td>10.231018</td>\n",
       "      <td>0</td>\n",
       "      <td>S5</td>\n",
       "    </tr>\n",
       "    <tr>\n",
       "      <th>4380599</th>\n",
       "      <td>10.230637</td>\n",
       "      <td>0</td>\n",
       "      <td>S5</td>\n",
       "    </tr>\n",
       "    <tr>\n",
       "      <th>4380600</th>\n",
       "      <td>10.230637</td>\n",
       "      <td>0</td>\n",
       "      <td>S5</td>\n",
       "    </tr>\n",
       "  </tbody>\n",
       "</table>\n",
       "<p>4380600 rows × 3 columns</p>\n",
       "</div>"
      ],
      "text/plain": [
       "               EDA  label subject\n",
       "1         3.888321      0      S5\n",
       "2         3.913116      0      S5\n",
       "3         3.873062      0      S5\n",
       "4         3.883362      0      S5\n",
       "5         3.886795      0      S5\n",
       "...            ...    ...     ...\n",
       "4380596  10.231400      0      S5\n",
       "4380597  10.231018      0      S5\n",
       "4380598  10.231018      0      S5\n",
       "4380599  10.230637      0      S5\n",
       "4380600  10.230637      0      S5\n",
       "\n",
       "[4380600 rows x 3 columns]"
      ]
     },
     "execution_count": 211,
     "metadata": {},
     "output_type": "execute_result"
    }
   ],
   "source": [
    "input_chest_data[0]"
   ]
  },
  {
   "cell_type": "code",
   "execution_count": 212,
   "id": "79b6184f",
   "metadata": {},
   "outputs": [
    {
     "data": {
      "text/html": [
       "<div>\n",
       "<style scoped>\n",
       "    .dataframe tbody tr th:only-of-type {\n",
       "        vertical-align: middle;\n",
       "    }\n",
       "\n",
       "    .dataframe tbody tr th {\n",
       "        vertical-align: top;\n",
       "    }\n",
       "\n",
       "    .dataframe thead th {\n",
       "        text-align: right;\n",
       "    }\n",
       "</style>\n",
       "<table border=\"1\" class=\"dataframe\">\n",
       "  <thead>\n",
       "    <tr style=\"text-align: right;\">\n",
       "      <th></th>\n",
       "      <th>EDA</th>\n",
       "      <th>label</th>\n",
       "      <th>subject</th>\n",
       "    </tr>\n",
       "  </thead>\n",
       "  <tbody>\n",
       "    <tr>\n",
       "      <th>1</th>\n",
       "      <td>1.362228</td>\n",
       "      <td>0</td>\n",
       "      <td>S15</td>\n",
       "    </tr>\n",
       "    <tr>\n",
       "      <th>2</th>\n",
       "      <td>1.357651</td>\n",
       "      <td>0</td>\n",
       "      <td>S15</td>\n",
       "    </tr>\n",
       "    <tr>\n",
       "      <th>3</th>\n",
       "      <td>1.345444</td>\n",
       "      <td>0</td>\n",
       "      <td>S15</td>\n",
       "    </tr>\n",
       "    <tr>\n",
       "      <th>4</th>\n",
       "      <td>1.353073</td>\n",
       "      <td>0</td>\n",
       "      <td>S15</td>\n",
       "    </tr>\n",
       "    <tr>\n",
       "      <th>5</th>\n",
       "      <td>1.344299</td>\n",
       "      <td>0</td>\n",
       "      <td>S15</td>\n",
       "    </tr>\n",
       "    <tr>\n",
       "      <th>...</th>\n",
       "      <td>...</td>\n",
       "      <td>...</td>\n",
       "      <td>...</td>\n",
       "    </tr>\n",
       "    <tr>\n",
       "      <th>3676396</th>\n",
       "      <td>4.121399</td>\n",
       "      <td>0</td>\n",
       "      <td>S15</td>\n",
       "    </tr>\n",
       "    <tr>\n",
       "      <th>3676397</th>\n",
       "      <td>4.118729</td>\n",
       "      <td>0</td>\n",
       "      <td>S15</td>\n",
       "    </tr>\n",
       "    <tr>\n",
       "      <th>3676398</th>\n",
       "      <td>4.120255</td>\n",
       "      <td>0</td>\n",
       "      <td>S15</td>\n",
       "    </tr>\n",
       "    <tr>\n",
       "      <th>3676399</th>\n",
       "      <td>4.122925</td>\n",
       "      <td>0</td>\n",
       "      <td>S15</td>\n",
       "    </tr>\n",
       "    <tr>\n",
       "      <th>3676400</th>\n",
       "      <td>4.130173</td>\n",
       "      <td>0</td>\n",
       "      <td>S15</td>\n",
       "    </tr>\n",
       "  </tbody>\n",
       "</table>\n",
       "<p>3676400 rows × 3 columns</p>\n",
       "</div>"
      ],
      "text/plain": [
       "              EDA  label subject\n",
       "1        1.362228      0     S15\n",
       "2        1.357651      0     S15\n",
       "3        1.345444      0     S15\n",
       "4        1.353073      0     S15\n",
       "5        1.344299      0     S15\n",
       "...           ...    ...     ...\n",
       "3676396  4.121399      0     S15\n",
       "3676397  4.118729      0     S15\n",
       "3676398  4.120255      0     S15\n",
       "3676399  4.122925      0     S15\n",
       "3676400  4.130173      0     S15\n",
       "\n",
       "[3676400 rows x 3 columns]"
      ]
     },
     "execution_count": 212,
     "metadata": {},
     "output_type": "execute_result"
    }
   ],
   "source": [
    "input_chest_data[14]"
   ]
  },
  {
   "cell_type": "markdown",
   "id": "bf9e38f6",
   "metadata": {},
   "source": [
    "### 1) Separete Data"
   ]
  },
  {
   "cell_type": "code",
   "execution_count": 213,
   "id": "88ae452f",
   "metadata": {},
   "outputs": [],
   "source": [
    "train_data = input_chest_data[:9]\n",
    "evaluate_data = input_chest_data[9:14]\n",
    "test_data = input_chest_data[14:15]"
   ]
  },
  {
   "cell_type": "code",
   "execution_count": 214,
   "id": "61bfc406",
   "metadata": {},
   "outputs": [],
   "source": [
    "y_train = []\n",
    "for df in train_data:\n",
    "    df.pop(\"subject\")\n",
    "    y_train.append(df.pop(\"label\"))\n",
    "X_train = train_data"
   ]
  },
  {
   "cell_type": "code",
   "execution_count": 216,
   "id": "780439e6",
   "metadata": {},
   "outputs": [],
   "source": [
    "y_evaluate = []\n",
    "for df in evaluate_data:\n",
    "    df.pop(\"subject\")\n",
    "    y_train.append(df.pop(\"label\"))\n",
    "X_evaluate = evaluate_data"
   ]
  },
  {
   "cell_type": "code",
   "execution_count": 217,
   "id": "cd5ba20e",
   "metadata": {},
   "outputs": [],
   "source": [
    "y_test = []\n",
    "for df in test_data:\n",
    "    df.pop(\"subject\")\n",
    "    y_train.append(df.pop(\"label\"))\n",
    "X_test = test_data"
   ]
  },
  {
   "cell_type": "markdown",
   "id": "f14db5db",
   "metadata": {},
   "source": [
    "## Creating Model"
   ]
  },
  {
   "cell_type": "code",
   "execution_count": 218,
   "id": "1bf99e75",
   "metadata": {},
   "outputs": [],
   "source": [
    "from keras.models import Sequential\n",
    "from keras.layers import Dense\n",
    "from keras.layers import LSTM\n",
    "from keras.layers.embeddings import Embedding\n",
    "from keras.preprocessing import sequence"
   ]
  },
  {
   "cell_type": "code",
   "execution_count": 219,
   "id": "3a2293f6",
   "metadata": {},
   "outputs": [
    {
     "ename": "ValueError",
     "evalue": "This model has not yet been built. Build the model first by calling `build()` or calling `fit()` with some data, or specify an `input_shape` argument in the first layer(s) for automatic build.",
     "output_type": "error",
     "traceback": [
      "\u001b[0;31m---------------------------------------------------------------------------\u001b[0m",
      "\u001b[0;31mValueError\u001b[0m                                Traceback (most recent call last)",
      "\u001b[0;32m<ipython-input-219-3262bb51a629>\u001b[0m in \u001b[0;36m<module>\u001b[0;34m\u001b[0m\n\u001b[1;32m      4\u001b[0m \u001b[0mmodel\u001b[0m\u001b[0;34m.\u001b[0m\u001b[0madd\u001b[0m\u001b[0;34m(\u001b[0m\u001b[0mDense\u001b[0m\u001b[0;34m(\u001b[0m\u001b[0;36m7\u001b[0m\u001b[0;34m,\u001b[0m \u001b[0mactivation\u001b[0m\u001b[0;34m=\u001b[0m\u001b[0;34m'sigmoid'\u001b[0m\u001b[0;34m)\u001b[0m\u001b[0;34m)\u001b[0m\u001b[0;34m\u001b[0m\u001b[0;34m\u001b[0m\u001b[0m\n\u001b[1;32m      5\u001b[0m \u001b[0mmodel\u001b[0m\u001b[0;34m.\u001b[0m\u001b[0mcompile\u001b[0m\u001b[0;34m(\u001b[0m\u001b[0mloss\u001b[0m\u001b[0;34m=\u001b[0m\u001b[0;34m'binary_crossentropy'\u001b[0m\u001b[0;34m,\u001b[0m \u001b[0moptimizer\u001b[0m\u001b[0;34m=\u001b[0m\u001b[0;34m'adam'\u001b[0m\u001b[0;34m,\u001b[0m \u001b[0mmetrics\u001b[0m\u001b[0;34m=\u001b[0m\u001b[0;34m[\u001b[0m\u001b[0;34m'accuracy'\u001b[0m\u001b[0;34m]\u001b[0m\u001b[0;34m)\u001b[0m\u001b[0;34m\u001b[0m\u001b[0;34m\u001b[0m\u001b[0m\n\u001b[0;32m----> 6\u001b[0;31m \u001b[0mprint\u001b[0m\u001b[0;34m(\u001b[0m\u001b[0mmodel\u001b[0m\u001b[0;34m.\u001b[0m\u001b[0msummary\u001b[0m\u001b[0;34m(\u001b[0m\u001b[0;34m)\u001b[0m\u001b[0;34m)\u001b[0m\u001b[0;34m\u001b[0m\u001b[0;34m\u001b[0m\u001b[0m\n\u001b[0m",
      "\u001b[0;32m~/keras-model/lib/python3.9/site-packages/keras/engine/training.py\u001b[0m in \u001b[0;36msummary\u001b[0;34m(self, line_length, positions, print_fn)\u001b[0m\n\u001b[1;32m   2450\u001b[0m     \"\"\"\n\u001b[1;32m   2451\u001b[0m     \u001b[0;32mif\u001b[0m \u001b[0;32mnot\u001b[0m \u001b[0mself\u001b[0m\u001b[0;34m.\u001b[0m\u001b[0mbuilt\u001b[0m\u001b[0;34m:\u001b[0m\u001b[0;34m\u001b[0m\u001b[0;34m\u001b[0m\u001b[0m\n\u001b[0;32m-> 2452\u001b[0;31m       raise ValueError('This model has not yet been built. '\n\u001b[0m\u001b[1;32m   2453\u001b[0m                        \u001b[0;34m'Build the model first by calling `build()` or calling '\u001b[0m\u001b[0;34m\u001b[0m\u001b[0;34m\u001b[0m\u001b[0m\n\u001b[1;32m   2454\u001b[0m                        \u001b[0;34m'`fit()` with some data, or specify '\u001b[0m\u001b[0;34m\u001b[0m\u001b[0;34m\u001b[0m\u001b[0m\n",
      "\u001b[0;31mValueError\u001b[0m: This model has not yet been built. Build the model first by calling `build()` or calling `fit()` with some data, or specify an `input_shape` argument in the first layer(s) for automatic build."
     ]
    }
   ],
   "source": [
    "embedding_vecor_length = 32\n",
    "model = Sequential()\n",
    "model.add(LSTM(100))\n",
    "model.add(Dense(7, activation='sigmoid'))\n",
    "model.compile(loss='binary_crossentropy', optimizer='adam', metrics=['accuracy'])\n",
    "print(model.summary())"
   ]
  }
 ],
 "metadata": {
  "kernelspec": {
   "display_name": "Python 3",
   "language": "python",
   "name": "python3"
  },
  "language_info": {
   "codemirror_mode": {
    "name": "ipython",
    "version": 3
   },
   "file_extension": ".py",
   "mimetype": "text/x-python",
   "name": "python",
   "nbconvert_exporter": "python",
   "pygments_lexer": "ipython3",
   "version": "3.9.4"
  }
 },
 "nbformat": 4,
 "nbformat_minor": 5
}

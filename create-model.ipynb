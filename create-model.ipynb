{
 "cells": [
  {
   "cell_type": "markdown",
   "id": "9c9fba0c",
   "metadata": {},
   "source": [
    "# LSTM to Identify Stress Partens"
   ]
  },
  {
   "cell_type": "markdown",
   "id": "61607166",
   "metadata": {},
   "source": [
    "## Importing Data"
   ]
  },
  {
   "cell_type": "markdown",
   "id": "ee288c07",
   "metadata": {},
   "source": [
    "* TEMP.csv: \n",
    "Data from temperature sensor expressed degrees on the Celsius (°C) scale.\n",
    "\n",
    "* EDA.csv:\n",
    "Data from the electrodermal activity sensor expressed as microsiemens (μS).\n",
    "\n",
    "* BVP.csv:\n",
    "Data from photoplethysmograph.\n",
    "\n",
    "* ACC.csv:\n",
    "Data from 3-axis accelerometer sensor. The accelerometer is configured to measure acceleration in the range [-2g, 2g]. Therefore the unit in this file is 1/64g.\n",
    "Data from x, y, and z axis are respectively in first, second, and third column.\n",
    "\n",
    "* IBI.csv:\n",
    "Time between individuals heart beats extracted from the BVP signal.\n",
    "No sample rate is needed for this file.\n",
    "The first column is the time (respect to the initial time) of the detected inter-beat interval expressed in seconds (s).\n",
    "The second column is the duration in seconds (s) of the detected inter-beat interval (i.e., the distance in seconds from the previous beat).\n",
    "\n",
    "* HR.csv:\n",
    "Average heart rate extracted from the BVP signal.The first row is the initial time of the session expressed as unix timestamp in UTC.\n",
    "The second row is the sample rate expressed in Hz.\n",
    "\n",
    "\n",
    "* tags.csv:\n",
    "Event mark times.\n",
    "Each row corresponds to a physical button press on the device; the same time as the status LED is first illuminated.\n",
    "The time is expressed as a unix timestamp in UTC and it is synchronized with initial time of the session indicated in the related data files from the corresponding session."
   ]
  },
  {
   "cell_type": "code",
   "execution_count": 100,
   "id": "9c7c503b",
   "metadata": {},
   "outputs": [],
   "source": [
    "import pandas as pd\n",
    "import numpy as np\n",
    "import os\n",
    "from zipfile import ZipFile"
   ]
  },
  {
   "cell_type": "code",
   "execution_count": 46,
   "id": "6dccfed7",
   "metadata": {},
   "outputs": [],
   "source": [
    "root_path = \"//Users/i546644/Documents/Unisinos/WESAD\""
   ]
  },
  {
   "cell_type": "code",
   "execution_count": 164,
   "id": "62934981",
   "metadata": {},
   "outputs": [],
   "source": [
    "subjects_available = os.listdir(root_path)"
   ]
  },
  {
   "cell_type": "code",
   "execution_count": 166,
   "id": "204dfdf9",
   "metadata": {},
   "outputs": [
    {
     "data": {
      "text/plain": [
       "['S5',\n",
       " 'S2',\n",
       " 'S3',\n",
       " 'S4',\n",
       " '.DS_Store',\n",
       " 'S17',\n",
       " 'S10',\n",
       " 'S11',\n",
       " 'S16',\n",
       " 'S8',\n",
       " 'S6',\n",
       " 'S7',\n",
       " 'S9',\n",
       " 'S13',\n",
       " 'S14',\n",
       " 'S15',\n",
       " 'wesad_readme.pdf']"
      ]
     },
     "execution_count": 166,
     "metadata": {},
     "output_type": "execute_result"
    }
   ],
   "source": [
    "subjects_available"
   ]
  },
  {
   "cell_type": "code",
   "execution_count": 167,
   "id": "8d4d855c",
   "metadata": {},
   "outputs": [],
   "source": [
    "subjects_available.remove(\".DS_Store\")\n",
    "subjects_available.remove(\"wesad_readme.pdf\")"
   ]
  },
  {
   "cell_type": "code",
   "execution_count": 168,
   "id": "520b7291",
   "metadata": {},
   "outputs": [
    {
     "data": {
      "text/plain": [
       "['S5',\n",
       " 'S2',\n",
       " 'S3',\n",
       " 'S4',\n",
       " 'S17',\n",
       " 'S10',\n",
       " 'S11',\n",
       " 'S16',\n",
       " 'S8',\n",
       " 'S6',\n",
       " 'S7',\n",
       " 'S9',\n",
       " 'S13',\n",
       " 'S14',\n",
       " 'S15']"
      ]
     },
     "execution_count": 168,
     "metadata": {},
     "output_type": "execute_result"
    }
   ],
   "source": [
    "subjects_available"
   ]
  },
  {
   "cell_type": "code",
   "execution_count": 177,
   "id": "a85ea8b0",
   "metadata": {},
   "outputs": [],
   "source": [
    "data_names = [\n",
    "    \"TEMP\",\n",
    "    \"EDA\",\n",
    "    \"BVP\",\n",
    "    \"ACC\",\n",
    "    \"IBI\",\n",
    "    \"HR\",\n",
    "    \"TAGS\"\n",
    "]"
   ]
  },
  {
   "cell_type": "code",
   "execution_count": 51,
   "id": "1d44b1a1",
   "metadata": {},
   "outputs": [],
   "source": [
    "zip_label = \"_E4_Data.zip\"\n",
    "label = \"_E4_Data\""
   ]
  },
  {
   "cell_type": "code",
   "execution_count": 171,
   "id": "033f90b8",
   "metadata": {},
   "outputs": [],
   "source": [
    "def unzip_files():\n",
    "    \n",
    "    subjects_data_paths = []\n",
    "    \n",
    "    for subject in subjects_available:\n",
    "        # extracting data from zip files\n",
    "        subject_E4_data_path = os.path.join(root_path, subject, subject + label)\n",
    "        subject_zip_data_path = os.path.join(root_path, subject, subject + zip_label)\n",
    "        subjects_data_paths.append(subject_E4_data_path)\n",
    "        with ZipFile(subject_zip_data_path, 'r') as zipObj:\n",
    "            zipObj.extractall(subject_E4_data_path)\n",
    "    \n",
    "    return subjects_data_paths"
   ]
  },
  {
   "cell_type": "code",
   "execution_count": 173,
   "id": "5dddcbcf",
   "metadata": {},
   "outputs": [
    {
     "data": {
      "text/plain": [
       "['//Users/i546644/Documents/Unisinos/WESAD/S5/S5_E4_Data',\n",
       " '//Users/i546644/Documents/Unisinos/WESAD/S2/S2_E4_Data',\n",
       " '//Users/i546644/Documents/Unisinos/WESAD/S3/S3_E4_Data',\n",
       " '//Users/i546644/Documents/Unisinos/WESAD/S4/S4_E4_Data',\n",
       " '//Users/i546644/Documents/Unisinos/WESAD/S17/S17_E4_Data',\n",
       " '//Users/i546644/Documents/Unisinos/WESAD/S10/S10_E4_Data',\n",
       " '//Users/i546644/Documents/Unisinos/WESAD/S11/S11_E4_Data',\n",
       " '//Users/i546644/Documents/Unisinos/WESAD/S16/S16_E4_Data',\n",
       " '//Users/i546644/Documents/Unisinos/WESAD/S8/S8_E4_Data',\n",
       " '//Users/i546644/Documents/Unisinos/WESAD/S6/S6_E4_Data',\n",
       " '//Users/i546644/Documents/Unisinos/WESAD/S7/S7_E4_Data',\n",
       " '//Users/i546644/Documents/Unisinos/WESAD/S9/S9_E4_Data',\n",
       " '//Users/i546644/Documents/Unisinos/WESAD/S13/S13_E4_Data',\n",
       " '//Users/i546644/Documents/Unisinos/WESAD/S14/S14_E4_Data',\n",
       " '//Users/i546644/Documents/Unisinos/WESAD/S15/S15_E4_Data']"
      ]
     },
     "execution_count": 173,
     "metadata": {},
     "output_type": "execute_result"
    }
   ],
   "source": [
    "unzip_files()"
   ]
  },
  {
   "cell_type": "markdown",
   "id": "809184d4",
   "metadata": {},
   "source": [
    "### 1) Try to create all data in a DataFrame"
   ]
  },
  {
   "cell_type": "code",
   "execution_count": 182,
   "id": "fd9cb21c",
   "metadata": {},
   "outputs": [],
   "source": [
    "def create_df(subjects, data_name):\n",
    "    \n",
    "    all_dfs = []\n",
    "    \n",
    "    data_name = data_name.upper()\n",
    "    \n",
    "    for subject in subjects:\n",
    "        file_path = os.path.join(root_path, subject, subject + label, data_name + \".csv\")\n",
    "        df = pd.read_csv(file_path, names = [data_name])\n",
    "        df[\"SUBJECT\"] = subject\n",
    "        all_dfs.append(df)\n",
    "        \n",
    "    return pd.concat(all_dfs)"
   ]
  },
  {
   "cell_type": "code",
   "execution_count": 183,
   "id": "87395ce8",
   "metadata": {},
   "outputs": [],
   "source": [
    "def create_all_data(data_names, subjects):\n",
    "    \n",
    "    all_data = {}\n",
    "    \n",
    "    for data in data_names:\n",
    "        all_data[data] = create_df(subjects=subjects, data_name=data)\n",
    "        \n",
    "    return all_data"
   ]
  },
  {
   "cell_type": "code",
   "execution_count": 184,
   "id": "827ab2a7",
   "metadata": {},
   "outputs": [],
   "source": [
    "all_data = create_all_data(data_names, subjects_available)"
   ]
  },
  {
   "cell_type": "code",
   "execution_count": 185,
   "id": "5ef3409c",
   "metadata": {},
   "outputs": [
    {
     "data": {
      "text/plain": [
       "{'TEMP':                TEMP SUBJECT\n",
       " 0      1.497357e+09      S5\n",
       " 1      4.000000e+00      S5\n",
       " 2      3.822100e+02      S5\n",
       " 3      3.822100e+02      S5\n",
       " 4      3.822100e+02      S5\n",
       " ...             ...     ...\n",
       " 26565  2.895000e+01     S15\n",
       " 26566  2.897000e+01     S15\n",
       " 26567  2.897000e+01     S15\n",
       " 26568  2.897000e+01     S15\n",
       " 26569  2.897000e+01     S15\n",
       " \n",
       " [427766 rows x 2 columns],\n",
       " 'EDA':                 EDA SUBJECT\n",
       " 0      1.497357e+09      S5\n",
       " 1      4.000000e+00      S5\n",
       " 2      0.000000e+00      S5\n",
       " 3      4.003090e-01      S5\n",
       " 4      4.757670e-01      S5\n",
       " ...             ...     ...\n",
       " 26565  5.298760e-01     S15\n",
       " 26566  5.106880e-01     S15\n",
       " 26567  5.349930e-01     S15\n",
       " 26568  5.592990e-01     S15\n",
       " 26569  5.720920e-01     S15\n",
       " \n",
       " [427794 rows x 2 columns],\n",
       " 'BVP':                  BVP SUBJECT\n",
       " 0       1.497357e+09      S5\n",
       " 1       6.400000e+01      S5\n",
       " 2      -0.000000e+00      S5\n",
       " 3      -0.000000e+00      S5\n",
       " 4      -0.000000e+00      S5\n",
       " ...              ...     ...\n",
       " 425136  2.231000e+01     S15\n",
       " 425137  2.084000e+01     S15\n",
       " 425138  1.751000e+01     S15\n",
       " 425139  1.184000e+01     S15\n",
       " 425140  3.910000e+00     S15\n",
       " \n",
       " [6844593 rows x 2 columns],\n",
       " 'ACC':                                     ACC SUBJECT\n",
       " 1.497357e+09 1.497357e+09  1.497357e+09      S5\n",
       " 3.200000e+01 3.200000e+01  3.200000e+01      S5\n",
       " 0.000000e+00 5.000000e+00  6.300000e+01      S5\n",
       "              5.000000e+00  6.300000e+01      S5\n",
       "              5.000000e+00  6.300000e+01      S5\n",
       " ...                                 ...     ...\n",
       " 1.400000e+01 7.000000e+00  6.100000e+01     S15\n",
       " 1.300000e+01 5.000000e+00  6.100000e+01     S15\n",
       " 1.700000e+01 7.000000e+00  5.900000e+01     S15\n",
       " 1.800000e+01 7.000000e+00  5.900000e+01     S15\n",
       " 1.900000e+01 7.000000e+00  5.700000e+01     S15\n",
       " \n",
       " [3422310 rows x 2 columns],\n",
       " 'IBI':                    IBI SUBJECT\n",
       " 1.497357e+09       IBI      S5\n",
       " 1.262558e+01  0.937543      S5\n",
       " 1.348499e+01  0.859414      S5\n",
       " 2.221977e+01  0.859414      S5\n",
       " 2.307918e+01  0.859414      S5\n",
       " ...                ...     ...\n",
       " 6.605959e+03  0.843789     S15\n",
       " 6.619319e+03  0.765660     S15\n",
       " 6.626241e+03  0.640654     S15\n",
       " 6.626991e+03  0.750034     S15\n",
       " 6.627850e+03  0.859414     S15\n",
       " \n",
       " [47115 rows x 2 columns],\n",
       " 'HR':                 HR SUBJECT\n",
       " 0     1.497357e+09      S5\n",
       " 1     1.000000e+00      S5\n",
       " 2     6.000000e+01      S5\n",
       " 3     6.050000e+01      S5\n",
       " 4     6.000000e+01      S5\n",
       " ...            ...     ...\n",
       " 6630  7.798000e+01     S15\n",
       " 6631  7.815000e+01     S15\n",
       " 6632  7.832000e+01     S15\n",
       " 6633  7.848000e+01     S15\n",
       " 6634  7.855000e+01     S15\n",
       " \n",
       " [106834 rows x 2 columns],\n",
       " 'TAGS':            TAGS SUBJECT\n",
       " 0  1.497364e+09      S5\n",
       " 0  1.497351e+09      S4\n",
       " 0  1.502443e+09     S17\n",
       " 0  1.500973e+09     S10\n",
       " 0  1.500988e+09     S11\n",
       " 0  1.502373e+09     S16\n",
       " 0  1.499692e+09      S8\n",
       " 0  1.497448e+09      S6\n",
       " 0  1.499346e+09      S7\n",
       " 0  1.499778e+09      S9\n",
       " 0  1.502198e+09     S13\n",
       " 0  1.502270e+09     S14\n",
       " 0  1.502356e+09     S15}"
      ]
     },
     "execution_count": 185,
     "metadata": {},
     "output_type": "execute_result"
    }
   ],
   "source": [
    "all_data"
   ]
  },
  {
   "cell_type": "markdown",
   "id": "bcc1938a",
   "metadata": {},
   "source": [
    "### 2) Try to create all datra in lists"
   ]
  },
  {
   "cell_type": "code",
   "execution_count": 91,
   "id": "83714cfa",
   "metadata": {},
   "outputs": [
    {
     "name": "stderr",
     "output_type": "stream",
     "text": [
      "<ipython-input-91-026c342373ab>:50: UserWarning: genfromtxt: Empty input file: \"//Users/i546644/Documents/Unisinos/WESAD/S2/S2_E4_Data/TAGS.csv\"\n",
      "  subject_tags_data = np.genfromtxt(subject_tags_path, delimiter=\",\")\n",
      "<ipython-input-91-026c342373ab>:50: UserWarning: genfromtxt: Empty input file: \"//Users/i546644/Documents/Unisinos/WESAD/S3/S3_E4_Data/TAGS.csv\"\n",
      "  subject_tags_data = np.genfromtxt(subject_tags_path, delimiter=\",\")\n"
     ]
    }
   ],
   "source": [
    "temp_list = []\n",
    "eda_list = []\n",
    "bvp_list = []\n",
    "acc_list = []\n",
    "ibi_list = []\n",
    "hr_list = []\n",
    "tags_list = []\n",
    "\n",
    "for subject in available_data:\n",
    "    # extracting data from zip files\n",
    "    subject_E4_data_path = os.path.join(root_path, subject, subject + label)\n",
    "    subject_zip_data_path = os.path.join(root_path, subject, subject + zip_label)\n",
    "    with ZipFile(subject_zip_data_path, 'r') as zipObj:\n",
    "        zipObj.extractall(subject_E4_data_path)\n",
    "        \n",
    "    # creating data file\n",
    "    \n",
    "    # TEMP files\n",
    "    subject_temp_path = os.path.join(subject_E4_data_path, \"TEMP.csv\")\n",
    "    subject_temp_data = np.genfromtxt(subject_temp_path, delimiter=\",\")\n",
    "    temp_list.append(subject_temp_data)\n",
    "    \n",
    "    # EDA files\n",
    "    subject_eda_path = os.path.join(subject_E4_data_path, \"EDA.csv\")\n",
    "    subject_eda_data = np.genfromtxt(subject_eda_path, delimiter=\",\")\n",
    "    eda_list.append(subject_eda_data)\n",
    "    \n",
    "    # BVP files\n",
    "    subject_bvp_path = os.path.join(subject_E4_data_path, \"BVP.csv\")\n",
    "    subject_bvp_data = np.genfromtxt(subject_bvp_path, delimiter=\",\")\n",
    "    bvp_list.append(subject_bvp_data)\n",
    "    \n",
    "    # ACC files\n",
    "    subject_acc_path = os.path.join(subject_E4_data_path, \"ACC.csv\")\n",
    "    subject_acc_data = np.genfromtxt(subject_acc_path, delimiter=\",\")\n",
    "    acc_list.append(subject_acc_data)\n",
    "    \n",
    "    # IBI files\n",
    "    subject_ibi_path = os.path.join(subject_E4_data_path, \"IBI.csv\")\n",
    "    subject_ibi_data = np.genfromtxt(subject_ibi_path, delimiter=\",\")\n",
    "    ibi_list.append(subject_ibi_data)\n",
    "    \n",
    "    # HR files\n",
    "    subject_hr_path = os.path.join(subject_E4_data_path, \"HR.csv\")\n",
    "    subject_hr_data = np.genfromtxt(subject_hr_path, delimiter=\",\")\n",
    "    hr_list.append(subject_hr_data)\n",
    "    \n",
    "    # TAGS files\n",
    "    subject_tags_path = os.path.join(subject_E4_data_path, \"TAGS.csv\")\n",
    "    subject_tags_data = np.genfromtxt(subject_tags_path, delimiter=\",\")\n",
    "    tags_list.append(subject_tags_data)"
   ]
  },
  {
   "cell_type": "code",
   "execution_count": null,
   "id": "962b31bd",
   "metadata": {},
   "outputs": [],
   "source": [
    "for subject in available_data:\n",
    "    # extracting data from zip files\n",
    "    subject_E4_data_path = os.path.join(root_path, subject, subject + label)\n",
    "    subject_zip_data_path = os.path.join(root_path, subject, subject + zip_label)\n",
    "    with ZipFile(subject_zip_data_path, 'r') as zipObj:\n",
    "        zipObj.extractall(subject_E4_data_path)\n",
    "        \n",
    "    # creating data file\n",
    "    \n",
    "    # TEMP files\n",
    "    subject_temp_path = os.path.join(subject_E4_data_path, \"TEMP.csv\")\n",
    "    subject_temp_data = np.genfromtxt(subject_temp_path, delimiter=\",\")\n",
    "    temp_list.append(subject_temp_data)\n",
    "    \n",
    "    # EDA files\n",
    "    subject_eda_path = os.path.join(subject_E4_data_path, \"EDA.csv\")\n",
    "    subject_eda_data = np.genfromtxt(subject_eda_path, delimiter=\",\")\n",
    "    eda_list.append(subject_eda_data)\n",
    "    \n",
    "    # BVP files\n",
    "    subject_bvp_path = os.path.join(subject_E4_data_path, \"BVP.csv\")\n",
    "    subject_bvp_data = np.genfromtxt(subject_bvp_path, delimiter=\",\")\n",
    "    bvp_list.append(subject_bvp_data)\n",
    "    \n",
    "    # ACC files\n",
    "    subject_acc_path = os.path.join(subject_E4_data_path, \"ACC.csv\")\n",
    "    subject_acc_data = np.genfromtxt(subject_acc_path, delimiter=\",\")\n",
    "    acc_list.append(subject_acc_data)\n",
    "    \n",
    "    # IBI files\n",
    "    subject_ibi_path = os.path.join(subject_E4_data_path, \"IBI.csv\")\n",
    "    subject_ibi_data = np.genfromtxt(subject_ibi_path, delimiter=\",\")\n",
    "    ibi_list.append(subject_ibi_data)\n",
    "    \n",
    "    # HR files\n",
    "    subject_hr_path = os.path.join(subject_E4_data_path, \"HR.csv\")\n",
    "    subject_hr_data = np.genfromtxt(subject_hr_path, delimiter=\",\")\n",
    "    hr_list.append(subject_hr_data)\n",
    "    \n",
    "    # TAGS files\n",
    "    subject_tags_path = os.path.join(subject_E4_data_path, \"TAGS.csv\")\n",
    "    subject_tags_data = np.genfromtxt(subject_tags_path, delimiter=\",\")\n",
    "    tags_list.append(subject_tags_data)"
   ]
  },
  {
   "cell_type": "code",
   "execution_count": null,
   "id": "e39a7581",
   "metadata": {},
   "outputs": [],
   "source": [
    "def unzip_files():\n",
    "    for subject in available_data:\n",
    "    # extracting data from zip files\n",
    "    subject_E4_data_path = os.path.join(root_path, subject, subject + label)\n",
    "    subject_zip_data_path = os.path.join(root_path, subject, subject + zip_label)\n",
    "    with ZipFile(subject_zip_data_path, 'r') as zipObj:\n",
    "        zipObj.extractall(subject_E4_data_path)"
   ]
  },
  {
   "cell_type": "code",
   "execution_count": null,
   "id": "4d20630d",
   "metadata": {},
   "outputs": [],
   "source": [
    "def get_single_df()"
   ]
  },
  {
   "cell_type": "code",
   "execution_count": 92,
   "id": "6a89019f",
   "metadata": {},
   "outputs": [
    {
     "data": {
      "text/plain": [
       "[array([1.49735653e+09, 4.00000000e+00, 3.82210000e+02, ...,\n",
       "        3.09300000e+01, 3.09300000e+01, 3.09300000e+01]),\n",
       " array([1.49543732e+09, 4.00000000e+00, 3.82180000e+02, ...,\n",
       "        3.38100000e+01, 3.38100000e+01, 3.38100000e+01]),\n",
       " array([1.49562413e+09, 4.00000000e+00, 3.82180000e+02, ...,\n",
       "        3.07300000e+01, 3.07300000e+01, 3.07300000e+01]),\n",
       " array([1.49734282e+09, 4.00000000e+00, 3.82210000e+02, ...,\n",
       "        3.13500000e+01, 3.13500000e+01, 3.13500000e+01]),\n",
       " array([1.50243596e+09, 4.00000000e+00, 3.82210000e+02, ...,\n",
       "        3.15700000e+01, 3.15700000e+01, 3.15700000e+01]),\n",
       " array([1.50096631e+09, 4.00000000e+00, 3.82210000e+02, ...,\n",
       "        3.07900000e+01, 3.07900000e+01, 3.07900000e+01]),\n",
       " array([1.50098126e+09, 4.00000000e+00, 3.82210000e+02, ...,\n",
       "        3.15100000e+01, 3.15100000e+01, 3.15100000e+01]),\n",
       " array([1.50236636e+09, 4.00000000e+00, 3.82210000e+02, ...,\n",
       "        2.94900000e+01, 2.94900000e+01, 2.94900000e+01]),\n",
       " array([1.49968504e+09, 4.00000000e+00, 3.82210000e+02, ...,\n",
       "        3.15100000e+01, 3.15100000e+01, 3.15100000e+01]),\n",
       " array([1.49743924e+09, 4.00000000e+00, 3.82210000e+02, ...,\n",
       "        3.26300000e+01, 3.26300000e+01, 3.26300000e+01]),\n",
       " array([1.49933946e+09, 4.00000000e+00, 3.82210000e+02, ...,\n",
       "        3.13700000e+01, 3.13700000e+01, 3.13700000e+01]),\n",
       " array([1.49977144e+09, 4.00000000e+00, 3.82210000e+02, ...,\n",
       "        3.20900000e+01, 3.20900000e+01, 3.20900000e+01]),\n",
       " array([1.50219079e+09, 4.00000000e+00, 3.82210000e+02, ...,\n",
       "        3.41800000e+01, 3.41800000e+01, 3.41800000e+01]),\n",
       " array([1.50226257e+09, 4.00000000e+00, 3.82210000e+02, ...,\n",
       "        3.12300000e+01, 3.12300000e+01, 3.12300000e+01]),\n",
       " array([1.50234906e+09, 4.00000000e+00, 3.82210000e+02, ...,\n",
       "        2.89700000e+01, 2.89700000e+01, 2.89700000e+01])]"
      ]
     },
     "execution_count": 92,
     "metadata": {},
     "output_type": "execute_result"
    }
   ],
   "source": [
    "temp_list"
   ]
  },
  {
   "cell_type": "code",
   "execution_count": 93,
   "id": "1cd85ba1",
   "metadata": {},
   "outputs": [
    {
     "data": {
      "text/plain": [
       "[array([1.49735653e+09, 4.00000000e+00, 0.00000000e+00, ...,\n",
       "        1.27800000e+00, 1.26904800e+00, 1.26393200e+00]),\n",
       " array([1.49543732e+09, 4.00000000e+00, 0.00000000e+00, ...,\n",
       "        3.89792000e-01, 3.87229000e-01, 4.15418000e-01]),\n",
       " array([1.49562413e+09, 4.00000000e+00, 0.00000000e+00, ...,\n",
       "        3.12893000e-01, 3.12893000e-01, 3.12893000e-01]),\n",
       " array([1.49734282e+09, 4.00000000e+00, 0.00000000e+00, ...,\n",
       "        1.92143000e-01, 1.89584000e-01, 1.90863000e-01]),\n",
       " array([1.50243596e+09, 4.00000000e+00, 0.00000000e+00, ...,\n",
       "        1.56278700e+00, 1.70096300e+00, 1.74830100e+00]),\n",
       " array([1.50096631e+09, 4.00000000e+00, 0.00000000e+00, ...,\n",
       "        1.03135000e+00, 1.02495400e+00, 1.03007100e+00]),\n",
       " array([1.50098126e+09, 4.00000000e+00, 0.00000000e+00, ...,\n",
       "        2.51000400e+00, 2.55349900e+00, 2.54198600e+00]),\n",
       " array([1.50236636e+09, 4.00000000e+00, 0.00000000e+00, ...,\n",
       "        4.99234000e-01, 5.06911000e-01, 5.08190000e-01]),\n",
       " array([1.49968504e+09, 4.00000000e+00, 0.00000000e+00, ...,\n",
       "        3.20079000e-01, 3.21359000e-01, 3.18800000e-01]),\n",
       " array([1.49743924e+09, 4.00000000e+00, 0.00000000e+00, ...,\n",
       "        6.74843700e+00, 6.85586800e+00, 6.87121500e+00]),\n",
       " array([1.49933946e+09, 4.00000000e+00, 0.00000000e+00, ...,\n",
       "        4.94514700e+00, 4.93363300e+00, 4.94003000e+00]),\n",
       " array([1.49977144e+09, 4.00000000e+00, 0.00000000e+00, ...,\n",
       "        7.69050000e-01, 7.62654000e-01, 7.74167000e-01]),\n",
       " array([1.50219079e+09, 4.00000000e+00, 0.00000000e+00, ...,\n",
       "        4.67576500e+00, 4.71414300e+00, 4.72821500e+00]),\n",
       " array([1.50226257e+09, 4.00000000e+00, 0.00000000e+00, ...,\n",
       "        4.60530000e-01, 4.65647000e-01, 4.66927000e-01]),\n",
       " array([1.50234906e+09, 4.00000000e+00, 0.00000000e+00, ...,\n",
       "        5.34993000e-01, 5.59299000e-01, 5.72092000e-01])]"
      ]
     },
     "execution_count": 93,
     "metadata": {},
     "output_type": "execute_result"
    }
   ],
   "source": [
    "eda_list"
   ]
  },
  {
   "cell_type": "code",
   "execution_count": 94,
   "id": "1e0a44ad",
   "metadata": {},
   "outputs": [
    {
     "data": {
      "text/plain": [
       "[array([ 1.49735653e+09,  6.40000000e+01, -0.00000000e+00, ...,\n",
       "        -9.28400000e+01, -1.16070000e+02, -1.30310000e+02]),\n",
       " array([ 1.49543732e+09,  6.40000000e+01, -0.00000000e+00, ...,\n",
       "         8.56100000e+01,  7.59800000e+01,  6.58600000e+01]),\n",
       " array([ 1.49562413e+09,  6.40000000e+01, -0.00000000e+00, ...,\n",
       "         7.00000000e+00,  6.08000000e+00,  5.50000000e+00]),\n",
       " array([ 1.49734282e+09,  6.40000000e+01, -0.00000000e+00, ...,\n",
       "        -8.67500000e+01, -1.00390000e+02, -1.11340000e+02]),\n",
       " array([ 1.50243596e+09,  6.40000000e+01, -0.00000000e+00, ...,\n",
       "        -5.22600000e+01, -5.21100000e+01, -5.22100000e+01]),\n",
       " array([ 1.50096631e+09,  6.40000000e+01, -0.00000000e+00, ...,\n",
       "         2.17100000e+01,  2.21800000e+01,  2.26000000e+01]),\n",
       " array([ 1.50098126e+09,  6.40000000e+01, -0.00000000e+00, ...,\n",
       "         1.82300000e+01,  2.06400000e+01,  2.22700000e+01]),\n",
       " array([ 1.50236636e+09,  6.40000000e+01, -0.00000000e+00, ...,\n",
       "        -3.55300000e+01, -3.33500000e+01, -3.10400000e+01]),\n",
       " array([ 1.49968504e+09,  6.40000000e+01, -0.00000000e+00, ...,\n",
       "         4.25400000e+01,  2.97800000e+01,  1.42600000e+01]),\n",
       " array([ 1.49743924e+09,  6.40000000e+01, -0.00000000e+00, ...,\n",
       "        -3.11880000e+02, -3.52710000e+02, -3.98260000e+02]),\n",
       " array([ 1.49933946e+09,  6.40000000e+01, -0.00000000e+00, ...,\n",
       "         8.12900000e+01,  8.34400000e+01,  8.40700000e+01]),\n",
       " array([ 1.49977144e+09,  6.40000000e+01, -0.00000000e+00, ...,\n",
       "        -3.48000000e+00, -9.44000000e+00, -1.80200000e+01]),\n",
       " array([ 1.50219079e+09,  6.40000000e+01, -0.00000000e+00, ...,\n",
       "        -4.65300000e+01, -4.16500000e+01, -3.63300000e+01]),\n",
       " array([ 1.50226257e+09,  6.40000000e+01, -0.00000000e+00, ...,\n",
       "        -3.75000000e+00, -3.41000000e+00, -3.77000000e+00]),\n",
       " array([ 1.50234906e+09,  6.40000000e+01, -0.00000000e+00, ...,\n",
       "         1.75100000e+01,  1.18400000e+01,  3.91000000e+00])]"
      ]
     },
     "execution_count": 94,
     "metadata": {},
     "output_type": "execute_result"
    }
   ],
   "source": [
    "bvp_list"
   ]
  },
  {
   "cell_type": "code",
   "execution_count": 95,
   "id": "b9ff4ffd",
   "metadata": {},
   "outputs": [
    {
     "data": {
      "text/plain": [
       "[array([[1.49735653e+09, 1.49735653e+09, 1.49735653e+09],\n",
       "        [3.20000000e+01, 3.20000000e+01, 3.20000000e+01],\n",
       "        [0.00000000e+00, 5.00000000e+00, 6.30000000e+01],\n",
       "        ...,\n",
       "        [0.00000000e+00, 6.00000000e+00, 6.20000000e+01],\n",
       "        [0.00000000e+00, 6.00000000e+00, 6.30000000e+01],\n",
       "        [0.00000000e+00, 6.00000000e+00, 6.40000000e+01]]),\n",
       " array([[ 1.49543732e+09,  1.49543732e+09,  1.49543732e+09],\n",
       "        [ 3.20000000e+01,  3.20000000e+01,  3.20000000e+01],\n",
       "        [ 2.90000000e+01, -6.00000000e+00,  5.50000000e+01],\n",
       "        ...,\n",
       "        [ 6.00000000e+01, -1.40000000e+01,  4.00000000e+00],\n",
       "        [ 6.30000000e+01, -1.40000000e+01,  5.00000000e+00],\n",
       "        [ 6.30000000e+01, -1.40000000e+01,  5.00000000e+00]]),\n",
       " array([[ 1.49562413e+09,  1.49562413e+09,  1.49562413e+09],\n",
       "        [ 3.20000000e+01,  3.20000000e+01,  3.20000000e+01],\n",
       "        [-2.70000000e+01,  4.00000000e+00,  5.70000000e+01],\n",
       "        ...,\n",
       "        [-2.60000000e+01,  5.70000000e+01,  1.60000000e+01],\n",
       "        [-2.70000000e+01,  5.60000000e+01,  1.60000000e+01],\n",
       "        [-2.90000000e+01,  5.70000000e+01,  1.50000000e+01]]),\n",
       " array([[ 1.49734282e+09,  1.49734282e+09,  1.49734282e+09],\n",
       "        [ 3.20000000e+01,  3.20000000e+01,  3.20000000e+01],\n",
       "        [-5.00000000e+01,  5.00000000e+00,  4.20000000e+01],\n",
       "        ...,\n",
       "        [-2.00000000e+01,  1.60000000e+01,  5.80000000e+01],\n",
       "        [-2.00000000e+01,  1.60000000e+01,  5.80000000e+01],\n",
       "        [-2.00000000e+01,  1.60000000e+01,  5.80000000e+01]]),\n",
       " array([[ 1.50243596e+09,  1.50243596e+09,  1.50243596e+09],\n",
       "        [ 3.20000000e+01,  3.20000000e+01,  3.20000000e+01],\n",
       "        [-1.70000000e+01,  1.40000000e+01,  5.90000000e+01],\n",
       "        ...,\n",
       "        [-3.00000000e+00,  1.30000000e+01,  6.30000000e+01],\n",
       "        [-2.00000000e+00,  1.30000000e+01,  6.30000000e+01],\n",
       "        [-3.00000000e+00,  1.30000000e+01,  6.20000000e+01]]),\n",
       " array([[ 1.50096631e+09,  1.50096631e+09,  1.50096631e+09],\n",
       "        [ 3.20000000e+01,  3.20000000e+01,  3.20000000e+01],\n",
       "        [ 5.00000000e+00,  1.00000000e+00,  6.30000000e+01],\n",
       "        ...,\n",
       "        [-7.00000000e+00, -9.00000000e+00,  6.10000000e+01],\n",
       "        [-6.00000000e+00, -9.00000000e+00,  6.20000000e+01],\n",
       "        [-6.00000000e+00, -9.00000000e+00,  6.20000000e+01]]),\n",
       " array([[ 1.50098126e+09,  1.50098126e+09,  1.50098126e+09],\n",
       "        [ 3.20000000e+01,  3.20000000e+01,  3.20000000e+01],\n",
       "        [-2.70000000e+01,  0.00000000e+00,  5.70000000e+01],\n",
       "        ...,\n",
       "        [-1.80000000e+01,  3.00000000e+00,  6.00000000e+01],\n",
       "        [-1.80000000e+01,  3.00000000e+00,  6.10000000e+01],\n",
       "        [-1.80000000e+01,  3.00000000e+00,  5.90000000e+01]]),\n",
       " array([[ 1.50236636e+09,  1.50236636e+09,  1.50236636e+09],\n",
       "        [ 3.20000000e+01,  3.20000000e+01,  3.20000000e+01],\n",
       "        [-1.50000000e+01, -2.00000000e+01,  5.80000000e+01],\n",
       "        ...,\n",
       "        [ 9.00000000e+00,  5.00000000e+00,  6.20000000e+01],\n",
       "        [ 9.00000000e+00,  5.00000000e+00,  6.20000000e+01],\n",
       "        [ 1.00000000e+01,  5.00000000e+00,  6.30000000e+01]]),\n",
       " array([[ 1.49968504e+09,  1.49968504e+09,  1.49968504e+09],\n",
       "        [ 3.20000000e+01,  3.20000000e+01,  3.20000000e+01],\n",
       "        [-1.60000000e+01,  3.00000000e+00,  6.00000000e+01],\n",
       "        ...,\n",
       "        [-1.30000000e+01,  1.30000000e+01,  6.10000000e+01],\n",
       "        [-1.30000000e+01,  1.20000000e+01,  6.10000000e+01],\n",
       "        [-1.30000000e+01,  1.20000000e+01,  6.10000000e+01]]),\n",
       " array([[ 1.49743924e+09,  1.49743924e+09,  1.49743924e+09],\n",
       "        [ 3.20000000e+01,  3.20000000e+01,  3.20000000e+01],\n",
       "        [-1.10000000e+01, -5.00000000e+00,  6.20000000e+01],\n",
       "        ...,\n",
       "        [ 0.00000000e+00, -8.00000000e+00,  6.30000000e+01],\n",
       "        [ 0.00000000e+00, -7.00000000e+00,  6.30000000e+01],\n",
       "        [ 0.00000000e+00, -7.00000000e+00,  6.20000000e+01]]),\n",
       " array([[ 1.49933946e+09,  1.49933946e+09,  1.49933946e+09],\n",
       "        [ 3.20000000e+01,  3.20000000e+01,  3.20000000e+01],\n",
       "        [ 7.00000000e+00,  5.00000000e+00,  6.10000000e+01],\n",
       "        ...,\n",
       "        [ 6.00000000e+00, -6.00000000e+00,  6.20000000e+01],\n",
       "        [ 6.00000000e+00, -6.00000000e+00,  6.20000000e+01],\n",
       "        [ 6.00000000e+00, -6.00000000e+00,  6.20000000e+01]]),\n",
       " array([[ 1.49977144e+09,  1.49977144e+09,  1.49977144e+09],\n",
       "        [ 3.20000000e+01,  3.20000000e+01,  3.20000000e+01],\n",
       "        [-6.00000000e+00,  3.00000000e+00,  6.30000000e+01],\n",
       "        ...,\n",
       "        [ 1.00000000e+00, -3.00000000e+00,  6.30000000e+01],\n",
       "        [ 1.00000000e+00, -3.00000000e+00,  6.30000000e+01],\n",
       "        [ 2.00000000e+00, -3.00000000e+00,  6.30000000e+01]]),\n",
       " array([[ 1.50219079e+09,  1.50219079e+09,  1.50219079e+09],\n",
       "        [ 3.20000000e+01,  3.20000000e+01,  3.20000000e+01],\n",
       "        [ 2.40000000e+01, -6.00000000e+00,  5.70000000e+01],\n",
       "        ...,\n",
       "        [ 6.00000000e+00,  7.00000000e+00,  6.30000000e+01],\n",
       "        [ 6.00000000e+00,  7.00000000e+00,  6.30000000e+01],\n",
       "        [ 6.00000000e+00,  7.00000000e+00,  6.30000000e+01]]),\n",
       " array([[ 1.50226257e+09,  1.50226257e+09,  1.50226257e+09],\n",
       "        [ 3.20000000e+01,  3.20000000e+01,  3.20000000e+01],\n",
       "        [-2.90000000e+01,  2.20000000e+01,  5.30000000e+01],\n",
       "        ...,\n",
       "        [ 8.00000000e+00,  2.10000000e+01,  5.90000000e+01],\n",
       "        [ 7.00000000e+00,  2.10000000e+01,  5.90000000e+01],\n",
       "        [ 5.00000000e+00,  2.10000000e+01,  5.80000000e+01]]),\n",
       " array([[ 1.50234906e+09,  1.50234906e+09,  1.50234906e+09],\n",
       "        [ 3.20000000e+01,  3.20000000e+01,  3.20000000e+01],\n",
       "        [-1.00000000e+00,  1.00000000e+00,  6.30000000e+01],\n",
       "        ...,\n",
       "        [ 1.70000000e+01,  7.00000000e+00,  5.90000000e+01],\n",
       "        [ 1.80000000e+01,  7.00000000e+00,  5.90000000e+01],\n",
       "        [ 1.90000000e+01,  7.00000000e+00,  5.70000000e+01]])]"
      ]
     },
     "execution_count": 95,
     "metadata": {},
     "output_type": "execute_result"
    }
   ],
   "source": [
    "acc_list"
   ]
  },
  {
   "cell_type": "code",
   "execution_count": 96,
   "id": "df04f0eb",
   "metadata": {},
   "outputs": [
    {
     "data": {
      "text/plain": [
       "[array([[1.49735653e+09,            nan],\n",
       "        [1.26255780e+01, 9.37543000e-01],\n",
       "        [1.34849920e+01, 8.59414000e-01],\n",
       "        ...,\n",
       "        [7.05674489e+03, 9.84420000e-01],\n",
       "        [7.05782307e+03, 1.07817400e+00],\n",
       "        [7.05890124e+03, 1.07817400e+00]]),\n",
       " array([[1.49543732e+09,            nan],\n",
       "        [1.43131550e+01, 7.65660000e-01],\n",
       "        [1.52038210e+01, 8.90666000e-01],\n",
       "        ...,\n",
       "        [7.85365637e+03, 9.84420000e-01],\n",
       "        [7.85467204e+03, 1.01567100e+00],\n",
       "        [7.85543770e+03, 7.65660000e-01]]),\n",
       " array([[1.49562413e+09,            nan],\n",
       "        [1.06723640e+01, 9.53169000e-01],\n",
       "        [1.94540150e+01, 9.84420000e-01],\n",
       "        ...,\n",
       "        [7.53875133e+03, 1.17192900e+00],\n",
       "        [7.53993889e+03, 1.18755400e+00],\n",
       "        [7.54120457e+03, 1.26568300e+00]]),\n",
       " array([[1.49734282e+09,            nan],\n",
       "        [1.44537870e+01, 7.50034000e-01],\n",
       "        [1.52975750e+01, 8.43789000e-01],\n",
       "        ...,\n",
       "        [7.84262462e+03, 1.03129700e+00],\n",
       "        [7.84371842e+03, 1.09380000e+00],\n",
       "        [7.87947005e+03, 7.96911000e-01]]),\n",
       " array([[1.50243596e+09,            nan],\n",
       "        [1.30162210e+01, 8.12537000e-01],\n",
       "        [1.38443840e+01, 8.28163000e-01],\n",
       "        ...,\n",
       "        [7.16757809e+03, 8.28163000e-01],\n",
       "        [7.16843750e+03, 8.59414000e-01],\n",
       "        [7.16923442e+03, 7.96911000e-01]]),\n",
       " array([[1.50096631e+09,            nan],\n",
       "        [1.56569670e+01, 7.50034000e-01],\n",
       "        [1.63601240e+01, 7.03157000e-01],\n",
       "        ...,\n",
       "        [6.80071755e+03, 6.25029000e-01],\n",
       "        [6.80138946e+03, 6.71906000e-01],\n",
       "        [6.80207699e+03, 6.87531000e-01]]),\n",
       " array([[1.50098126e+09,            nan],\n",
       "        [1.43912840e+01, 9.06291000e-01],\n",
       "        [1.53444520e+01, 9.53169000e-01],\n",
       "        ...,\n",
       "        [6.35254079e+03, 7.50034000e-01],\n",
       "        [6.35332207e+03, 7.81286000e-01],\n",
       "        [6.35404086e+03, 7.18783000e-01]]),\n",
       " array([[1.50236636e+09,            nan],\n",
       "        [1.36412490e+01, 9.06291000e-01],\n",
       "        [1.46569210e+01, 1.01567100e+00],\n",
       "        ...,\n",
       "        [7.09104334e+03, 6.40654000e-01],\n",
       "        [7.09166837e+03, 6.25029000e-01],\n",
       "        [7.09234027e+03, 6.71906000e-01]]),\n",
       " array([[1.49968504e+09,            nan],\n",
       "        [1.22974380e+01, 7.96911000e-01],\n",
       "        [1.30474720e+01, 7.50034000e-01],\n",
       "        ...,\n",
       "        [6.61058385e+03, 6.87531000e-01],\n",
       "        [6.61125575e+03, 6.71906000e-01],\n",
       "        [6.61199016e+03, 7.34409000e-01]]),\n",
       " array([[1.49743924e+09,            nan],\n",
       "        [1.77195610e+01, 7.18783000e-01],\n",
       "        [1.85477240e+01, 8.28163000e-01],\n",
       "        ...,\n",
       "        [8.15840470e+03, 9.84420000e-01],\n",
       "        [8.15943599e+03, 1.03129700e+00],\n",
       "        [8.16038916e+03, 9.53169000e-01]]),\n",
       " array([[1.49933946e+09,            nan],\n",
       "        [1.13442690e+01, 9.21917000e-01],\n",
       "        [1.23130640e+01, 9.68794000e-01],\n",
       "        ...,\n",
       "        [6.47120247e+03, 7.96911000e-01],\n",
       "        [6.47189000e+03, 6.87531000e-01],\n",
       "        [6.47267128e+03, 7.81286000e-01]]),\n",
       " array([[1.49977144e+09,            nan],\n",
       "        [1.38912610e+01, 9.06291000e-01],\n",
       "        [1.47975520e+01, 9.06291000e-01],\n",
       "        ...,\n",
       "        [6.09482586e+03, 9.21917000e-01],\n",
       "        [6.09579466e+03, 9.68794000e-01],\n",
       "        [6.09674783e+03, 9.53169000e-01]]),\n",
       " array([[1.50219079e+09,            nan],\n",
       "        [1.39068870e+01, 8.43789000e-01],\n",
       "        [1.34959303e+02, 6.87531000e-01],\n",
       "        ...,\n",
       "        [6.69913478e+03, 7.03157000e-01],\n",
       "        [6.69986918e+03, 7.34409000e-01],\n",
       "        [6.70065047e+03, 7.81286000e-01]]),\n",
       " array([[1.50226257e+09,            nan],\n",
       "        [1.60632350e+01, 8.12537000e-01],\n",
       "        [1.68757720e+01, 8.12537000e-01],\n",
       "        ...,\n",
       "        [6.97538180e+03, 7.81286000e-01],\n",
       "        [6.97611621e+03, 7.34409000e-01],\n",
       "        [6.97694437e+03, 8.28163000e-01]]),\n",
       " array([[1.50234906e+09,            nan],\n",
       "        [1.27037070e+01, 8.12537000e-01],\n",
       "        [1.35474950e+01, 8.43789000e-01],\n",
       "        ...,\n",
       "        [6.62624081e+03, 6.40654000e-01],\n",
       "        [6.62699085e+03, 7.50034000e-01],\n",
       "        [6.62785026e+03, 8.59414000e-01]])]"
      ]
     },
     "execution_count": 96,
     "metadata": {},
     "output_type": "execute_result"
    }
   ],
   "source": [
    "ibi_list"
   ]
  },
  {
   "cell_type": "code",
   "execution_count": 97,
   "id": "4b5df7bb",
   "metadata": {},
   "outputs": [
    {
     "data": {
      "text/plain": [
       "[array([1.49735654e+09, 1.00000000e+00, 6.00000000e+01, ...,\n",
       "        7.85500000e+01, 7.83500000e+01, 7.81700000e+01]),\n",
       " array([1.49543734e+09, 1.00000000e+00, 1.01000000e+02, ...,\n",
       "        8.26700000e+01, 8.33500000e+01, 8.40300000e+01]),\n",
       " array([1.49562414e+09, 1.00000000e+00, 1.24000000e+02, ...,\n",
       "        7.03000000e+01, 7.02500000e+01, 7.01800000e+01]),\n",
       " array([1.49734283e+09, 1.00000000e+00, 8.50000000e+01, ...,\n",
       "        1.04030000e+02, 1.03000000e+02, 1.01980000e+02]),\n",
       " array([1.50243597e+09, 1.00000000e+00, 6.00000000e+01, ...,\n",
       "        7.43800000e+01, 7.40300000e+01, 7.36500000e+01]),\n",
       " array([1.50096632e+09, 1.00000000e+00, 7.10000000e+01, ...,\n",
       "        8.04300000e+01, 8.07000000e+01, 8.09200000e+01]),\n",
       " array([1.50098127e+09, 1.00000000e+00, 8.20000000e+01, ...,\n",
       "        8.08800000e+01, 8.09000000e+01, 8.09300000e+01]),\n",
       " array([1.50236638e+09, 1.00000000e+00, 5.80000000e+01, ...,\n",
       "        8.24500000e+01, 8.24300000e+01, 8.24300000e+01]),\n",
       " array([1.49968505e+09, 1.00000000e+00, 1.00000000e+02, ...,\n",
       "        8.11000000e+01, 8.14500000e+01, 8.18200000e+01]),\n",
       " array([1.49743925e+09, 1.00000000e+00, 6.00000000e+01, ...,\n",
       "        8.09700000e+01, 8.10000000e+01, 8.09300000e+01]),\n",
       " array([1.49933947e+09, 1.00000000e+00, 8.50000000e+01, ...,\n",
       "        7.73700000e+01, 7.72200000e+01, 7.71000000e+01]),\n",
       " array([1.49977145e+09, 1.00000000e+00, 6.50000000e+01, ...,\n",
       "        7.91500000e+01, 7.91200000e+01, 7.91200000e+01]),\n",
       " array([1.5021908e+09, 1.0000000e+00, 6.5000000e+01, ..., 7.5750000e+01,\n",
       "        7.5830000e+01, 7.5900000e+01]),\n",
       " array([1.50226258e+09, 1.00000000e+00, 6.90000000e+01, ...,\n",
       "        7.86300000e+01, 7.84800000e+01, 7.85200000e+01]),\n",
       " array([1.50234907e+09, 1.00000000e+00, 7.20000000e+01, ...,\n",
       "        7.83200000e+01, 7.84800000e+01, 7.85500000e+01])]"
      ]
     },
     "execution_count": 97,
     "metadata": {},
     "output_type": "execute_result"
    }
   ],
   "source": [
    "hr_list"
   ]
  },
  {
   "cell_type": "code",
   "execution_count": 98,
   "id": "56bed9d0",
   "metadata": {},
   "outputs": [
    {
     "data": {
      "text/plain": [
       "[array(1.49736408e+09),\n",
       " array([], dtype=float64),\n",
       " array([], dtype=float64),\n",
       " array(1.49735082e+09),\n",
       " array(1.50244319e+09),\n",
       " array(1.50097313e+09),\n",
       " array(1.50098772e+09),\n",
       " array(1.50237347e+09),\n",
       " array(1.49969168e+09),\n",
       " array(1.49744756e+09),\n",
       " array(1.49934596e+09),\n",
       " array(1.49977767e+09),\n",
       " array(1.50219765e+09),\n",
       " array(1.50226956e+09),\n",
       " array(1.5023557e+09)]"
      ]
     },
     "execution_count": 98,
     "metadata": {},
     "output_type": "execute_result"
    }
   ],
   "source": [
    "tags_list"
   ]
  },
  {
   "cell_type": "markdown",
   "id": "948223d2",
   "metadata": {},
   "source": [
    "## Creating Model"
   ]
  },
  {
   "cell_type": "code",
   "execution_count": 99,
   "id": "03e6fba6",
   "metadata": {},
   "outputs": [],
   "source": [
    "from keras.models import Sequential\n",
    "from keras.layers import Dense\n",
    "from keras.layers import LSTM\n",
    "from keras.layers.embeddings import Embedding\n",
    "from keras.preprocessing import sequence"
   ]
  },
  {
   "cell_type": "code",
   "execution_count": null,
   "id": "c4f2b7aa",
   "metadata": {},
   "outputs": [],
   "source": []
  },
  {
   "cell_type": "code",
   "execution_count": null,
   "id": "d942451f",
   "metadata": {},
   "outputs": [],
   "source": []
  },
  {
   "cell_type": "code",
   "execution_count": null,
   "id": "81dc9f88",
   "metadata": {},
   "outputs": [],
   "source": []
  },
  {
   "cell_type": "code",
   "execution_count": null,
   "id": "c2d37c3f",
   "metadata": {},
   "outputs": [],
   "source": []
  },
  {
   "cell_type": "code",
   "execution_count": null,
   "id": "9e1fed40",
   "metadata": {},
   "outputs": [],
   "source": [
    "embedding_vecor_length = 32\n",
    "model = Sequential()\n",
    "model.add(Embedding(top_words, embedding_vecor_length, input_length=max_review_length))\n",
    "model.add(LSTM(100))\n",
    "model.add(Dense(1, activation='sigmoid'))\n",
    "model.compile(loss='binary_crossentropy', optimizer='adam', metrics=['accuracy'])\n",
    "print(model.summary())"
   ]
  }
 ],
 "metadata": {
  "kernelspec": {
   "display_name": "Python 3",
   "language": "python",
   "name": "python3"
  },
  "language_info": {
   "codemirror_mode": {
    "name": "ipython",
    "version": 3
   },
   "file_extension": ".py",
   "mimetype": "text/x-python",
   "name": "python",
   "nbconvert_exporter": "python",
   "pygments_lexer": "ipython3",
   "version": "3.9.4"
  }
 },
 "nbformat": 4,
 "nbformat_minor": 5
}
